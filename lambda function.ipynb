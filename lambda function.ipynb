{
 "cells": [
  {
   "cell_type": "code",
   "execution_count": 1,
   "id": "a904c65d-0117-46e1-86a8-06360f2e2947",
   "metadata": {},
   "outputs": [],
   "source": [
    "n = 3\n",
    "p = 2"
   ]
  },
  {
   "cell_type": "code",
   "execution_count": 2,
   "id": "5141aa5f-2893-4de9-8a42-41d0bf2cd026",
   "metadata": {},
   "outputs": [],
   "source": [
    "def test(n,p):\n",
    "    return n**p"
   ]
  },
  {
   "cell_type": "code",
   "execution_count": 9,
   "id": "3fa88e5c-1d1c-4c82-9128-35c1afd2c58a",
   "metadata": {},
   "outputs": [
    {
     "data": {
      "text/plain": [
       "9"
      ]
     },
     "execution_count": 9,
     "metadata": {},
     "output_type": "execute_result"
    }
   ],
   "source": [
    "test(3,2)"
   ]
  },
  {
   "cell_type": "code",
   "execution_count": 14,
   "id": "ce9cb6e0-111b-43e8-a6f7-b3a266bd4c59",
   "metadata": {},
   "outputs": [],
   "source": [
    "a = lambda  n , p : n**p"
   ]
  },
  {
   "cell_type": "code",
   "execution_count": 16,
   "id": "5cceae3e-affe-4977-a7e5-a7a578f97550",
   "metadata": {},
   "outputs": [],
   "source": [
    "a = (3,2)"
   ]
  },
  {
   "cell_type": "code",
   "execution_count": 17,
   "id": "4d8d7e80-45f3-4e32-a776-20e795b535f7",
   "metadata": {},
   "outputs": [
    {
     "data": {
      "text/plain": [
       "9"
      ]
     },
     "execution_count": 17,
     "metadata": {},
     "output_type": "execute_result"
    }
   ],
   "source": [
    "9"
   ]
  },
  {
   "cell_type": "code",
   "execution_count": 18,
   "id": "1d73ddd9-da8d-40d0-8614-4ebeaee78fea",
   "metadata": {},
   "outputs": [],
   "source": [
    "add = lambda x,y: x+y"
   ]
  },
  {
   "cell_type": "code",
   "execution_count": 19,
   "id": "fa582920-4549-4ed8-bf3d-00d1a2a1b97a",
   "metadata": {},
   "outputs": [
    {
     "data": {
      "text/plain": [
       "9"
      ]
     },
     "execution_count": 19,
     "metadata": {},
     "output_type": "execute_result"
    }
   ],
   "source": [
    "add(4,5)"
   ]
  },
  {
   "cell_type": "code",
   "execution_count": 20,
   "id": "9df22895-8276-4563-a883-c38bc4deabb0",
   "metadata": {},
   "outputs": [],
   "source": [
    "c_to_f = lambda c : (9/5)* c+32"
   ]
  },
  {
   "cell_type": "code",
   "execution_count": 21,
   "id": "913d979f-04a7-493d-ac5a-71b5d7fe2b3f",
   "metadata": {},
   "outputs": [
    {
     "data": {
      "text/plain": [
       "113.0"
      ]
     },
     "execution_count": 21,
     "metadata": {},
     "output_type": "execute_result"
    }
   ],
   "source": [
    "c_to_f(45)"
   ]
  },
  {
   "cell_type": "code",
   "execution_count": 22,
   "id": "34c5cec2-908e-4fae-bcc3-f98508e032c3",
   "metadata": {},
   "outputs": [],
   "source": [
    "finding_max = lambda x,y : x if x>y else y"
   ]
  },
  {
   "cell_type": "code",
   "execution_count": 23,
   "id": "9fc0ce61-086c-48ad-92a8-87163aa91f4f",
   "metadata": {},
   "outputs": [
    {
     "data": {
      "text/plain": [
       "34"
      ]
     },
     "execution_count": 23,
     "metadata": {},
     "output_type": "execute_result"
    }
   ],
   "source": [
    "finding_max(34,23)"
   ]
  },
  {
   "cell_type": "code",
   "execution_count": 24,
   "id": "3df73788-5790-4c73-ad6f-a0660e890116",
   "metadata": {},
   "outputs": [],
   "source": [
    "s = \"sonukumar\""
   ]
  },
  {
   "cell_type": "code",
   "execution_count": 26,
   "id": "5b633d40-15aa-4c51-ae50-55f649f477f0",
   "metadata": {},
   "outputs": [],
   "source": [
    "find_len = lambda s : len(s)"
   ]
  },
  {
   "cell_type": "code",
   "execution_count": 27,
   "id": "e7a07ba2-ed17-4216-868b-34643902f685",
   "metadata": {},
   "outputs": [
    {
     "data": {
      "text/plain": [
       "9"
      ]
     },
     "execution_count": 27,
     "metadata": {},
     "output_type": "execute_result"
    }
   ],
   "source": [
    "find_len(s)"
   ]
  },
  {
   "cell_type": "code",
   "execution_count": null,
   "id": "7bc83da8-dde1-4395-aa6a-9ea16e541bb2",
   "metadata": {},
   "outputs": [],
   "source": []
  }
 ],
 "metadata": {
  "kernelspec": {
   "display_name": "Python 3 (ipykernel)",
   "language": "python",
   "name": "python3"
  },
  "language_info": {
   "codemirror_mode": {
    "name": "ipython",
    "version": 3
   },
   "file_extension": ".py",
   "mimetype": "text/x-python",
   "name": "python",
   "nbconvert_exporter": "python",
   "pygments_lexer": "ipython3",
   "version": "3.10.8"
  }
 },
 "nbformat": 4,
 "nbformat_minor": 5
}
